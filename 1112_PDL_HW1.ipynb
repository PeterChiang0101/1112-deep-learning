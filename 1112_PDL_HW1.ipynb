{
  "cells": [
    {
      "cell_type": "markdown",
      "id": "bb481463",
      "metadata": {
        "id": "bb481463"
      },
      "source": [
        "# Homework 1"
      ]
    },
    {
      "cell_type": "markdown",
      "id": "03243729",
      "metadata": {
        "id": "03243729"
      },
      "source": [
        "繳交期限：**2023/2/28 12:00 pm.** "
      ]
    },
    {
      "cell_type": "markdown",
      "id": "4e8ced2c",
      "metadata": {
        "id": "4e8ced2c"
      },
      "source": [
        "檔名規則：**112_PDL_HWX_StudentID.ipynb** (e.g. 1112_PDL_HW1_109123456.ipynb)"
      ]
    },
    {
      "cell_type": "raw",
      "id": "28e3e5ee",
      "metadata": {
        "id": "28e3e5ee"
      },
      "source": [
        "IMPORTANT: 不接受任何理由遲交 & 檔名錯誤扣1分"
      ]
    },
    {
      "cell_type": "markdown",
      "id": "9db6e714",
      "metadata": {
        "id": "9db6e714"
      },
      "source": [
        "**How to do it?** \n",
        "Uploading your .ipynb file into the homework assignemnt in the ee-class system. "
      ]
    },
    {
      "cell_type": "markdown",
      "id": "80c504be",
      "metadata": {
        "id": "80c504be"
      },
      "source": [
        "## The Zen of Python"
      ]
    },
    {
      "cell_type": "code",
      "execution_count": 1,
      "id": "b62f4352",
      "metadata": {
        "id": "b62f4352"
      },
      "outputs": [],
      "source": [
        "zen_eng = '''The Zen of Python, by Tim Peters\n",
        "\n",
        "Beautiful is better than ugly.\n",
        "Explicit is better than implicit.\n",
        "Simple is better than complex.\n",
        "Complex is better than complicated.\n",
        "Flat is better than nested.\n",
        "Sparse is better than dense.\n",
        "Readability counts.\n",
        "Special cases aren't special enough to break the rules.\n",
        "Although practicality beats purity.\n",
        "Errors should never pass silently.\n",
        "Unless explicitly silenced.\n",
        "In the face of ambiguity, refuse the temptation to guess.\n",
        "There should be one-- and preferably only one --obvious way to do it.\n",
        "Although that way may not be obvious at first unless you're Dutch.\n",
        "Now is better than never.\n",
        "Although never is often better than *right* now.\n",
        "If the implementation is hard to explain, it's a bad idea.\n",
        "If the implementation is easy to explain, it may be a good idea.\n",
        "Namespaces are one honking great idea -- let's do more of those!'''"
      ]
    },
    {
      "cell_type": "markdown",
      "id": "0ab1a0dc",
      "metadata": {
        "id": "0ab1a0dc"
      },
      "source": [
        "![%E6%88%AA%E5%9C%96%202023-02-20%20%E4%B8%8B%E5%8D%8811.12.34-2.png](attachment:%E6%88%AA%E5%9C%96%202023-02-20%20%E4%B8%8B%E5%8D%8811.12.34-2.png)"
      ]
    },
    {
      "cell_type": "markdown",
      "id": "f6a9fd48",
      "metadata": {
        "id": "f6a9fd48"
      },
      "source": [
        "### Q1. 計算「The Zen of Python」字數 (3%) "
      ]
    },
    {
      "cell_type": "code",
      "execution_count": 14,
      "id": "b2a0ea24",
      "metadata": {
        "id": "b2a0ea24"
      },
      "outputs": [],
      "source": [
        "word = zen_eng.split()"
      ]
    },
    {
      "cell_type": "code",
      "execution_count": 16,
      "id": "f7557807",
      "metadata": {
        "id": "f7557807",
        "outputId": "1f3b5858-dde4-44a6-ef33-b5c4700618f0",
        "colab": {
          "base_uri": "https://localhost:8080/"
        }
      },
      "outputs": [
        {
          "output_type": "execute_result",
          "data": {
            "text/plain": [
              "144"
            ]
          },
          "metadata": {},
          "execution_count": 16
        }
      ],
      "source": [
        "len(word)"
      ]
    },
    {
      "cell_type": "markdown",
      "id": "5fc6a93a",
      "metadata": {
        "id": "5fc6a93a"
      },
      "source": [
        "------"
      ]
    },
    {
      "cell_type": "markdown",
      "id": "b3221bf3",
      "metadata": {
        "id": "b3221bf3"
      },
      "source": [
        "### Q2. 計算「The Zen of Python」字元數 (不含空白)？(3%)"
      ]
    },
    {
      "cell_type": "code",
      "execution_count": 7,
      "id": "20b6c14e",
      "metadata": {
        "id": "20b6c14e"
      },
      "outputs": [],
      "source": [
        "tmp = zen_eng.replace(\" \", \"\").replace(\"\\n\", \"\")"
      ]
    },
    {
      "cell_type": "code",
      "execution_count": 8,
      "id": "2e0b54e2",
      "metadata": {
        "id": "2e0b54e2",
        "outputId": "12796ac1-ea3c-478e-cf80-09b6fe4d3ca0",
        "colab": {
          "base_uri": "https://localhost:8080/"
        }
      },
      "outputs": [
        {
          "output_type": "execute_result",
          "data": {
            "text/plain": [
              "712"
            ]
          },
          "metadata": {},
          "execution_count": 8
        }
      ],
      "source": [
        "len(tmp)"
      ]
    },
    {
      "cell_type": "markdown",
      "id": "a45032b2",
      "metadata": {
        "id": "a45032b2"
      },
      "source": [
        "---------"
      ]
    },
    {
      "cell_type": "code",
      "execution_count": 17,
      "id": "f2b883bf",
      "metadata": {
        "id": "f2b883bf"
      },
      "outputs": [],
      "source": [
        "zen_cht = '''Python 之禪 by Tim Peters\n",
        "\n",
        "優美勝於醜陋\n",
        "明了勝於晦澀\n",
        "簡潔勝於複雜\n",
        "複雜勝於凌亂\n",
        "扁平勝於嵌套\n",
        "間隔勝於緊湊\n",
        "可讀性很重要\n",
        "即便假借特例的實用性之名，也不可違背這些規則\n",
        "不要包容所有錯誤，除非你確定需要這樣做\n",
        "當存在多種可能，不要嘗試去猜測\n",
        "而是儘量找一種，最好是唯一一種明顯的解決方案\n",
        "雖然這並不容易，因為你不是 Python 之父\n",
        "做也許好過不做，但不假思索就動手還不如不做\n",
        "如果你無法向人描述你的方案，那肯定不是一個好方案；反之亦然\n",
        "命名空間是一種絕妙的理念，我們應當多加利用'''"
      ]
    },
    {
      "cell_type": "markdown",
      "id": "94c8b1f1",
      "metadata": {
        "id": "94c8b1f1"
      },
      "source": [
        "![%E6%88%AA%E5%9C%96%202023-02-20%20%E4%B8%8B%E5%8D%8811.19.57.png](attachment:%E6%88%AA%E5%9C%96%202023-02-20%20%E4%B8%8B%E5%8D%8811.19.57.png)"
      ]
    },
    {
      "cell_type": "markdown",
      "id": "ebb1726d",
      "metadata": {
        "id": "ebb1726d"
      },
      "source": [
        "### Q3: 計算「Python 之禪」的半形字數量？(4%)"
      ]
    },
    {
      "cell_type": "code",
      "execution_count": 26,
      "id": "426fbfa0",
      "metadata": {
        "id": "426fbfa0"
      },
      "outputs": [],
      "source": [
        "import unicodedata\n",
        "cht_word = zen_cht.split()\n",
        "count =0\n",
        "for word in cht_word:\n",
        "  for chr in word:\n",
        "    status = unicodedata.east_asian_width(chr)\n",
        "    if status == 'W' or status == 'F' or status == 'A':\n",
        "      break\n",
        "  else:\n",
        "    count +=1\n"
      ]
    },
    {
      "cell_type": "code",
      "execution_count": 27,
      "id": "fdb27fca",
      "metadata": {
        "id": "fdb27fca",
        "outputId": "8caa13b7-6bf0-4f82-9eee-2893711ca413",
        "colab": {
          "base_uri": "https://localhost:8080/"
        }
      },
      "outputs": [
        {
          "output_type": "execute_result",
          "data": {
            "text/plain": [
              "5"
            ]
          },
          "metadata": {},
          "execution_count": 27
        }
      ],
      "source": [
        "count"
      ]
    }
  ],
  "metadata": {
    "kernelspec": {
      "display_name": "Python 3 (ipykernel)",
      "language": "python",
      "name": "python3"
    },
    "language_info": {
      "codemirror_mode": {
        "name": "ipython",
        "version": 3
      },
      "file_extension": ".py",
      "mimetype": "text/x-python",
      "name": "python",
      "nbconvert_exporter": "python",
      "pygments_lexer": "ipython3",
      "version": "3.9.13"
    },
    "colab": {
      "provenance": []
    }
  },
  "nbformat": 4,
  "nbformat_minor": 5
}